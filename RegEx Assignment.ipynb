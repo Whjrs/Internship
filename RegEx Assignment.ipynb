{
 "cells": [
  {
   "cell_type": "code",
   "execution_count": 2,
   "id": "06f083d7",
   "metadata": {},
   "outputs": [],
   "source": [
    "import re\n",
    "import pandas as pd\n",
    "import numpy as np"
   ]
  },
  {
   "cell_type": "markdown",
   "id": "e67b5822",
   "metadata": {},
   "source": [
    "# Question 1- Write a Python program to replace all occurrences of a space, comma, or dot with a colon."
   ]
  },
  {
   "cell_type": "code",
   "execution_count": 2,
   "id": "6c188109",
   "metadata": {},
   "outputs": [
    {
     "name": "stdout",
     "output_type": "stream",
     "text": [
      "Enter a string: 'Python Exercises, PHP exercises.'\n",
      "'Python:Exercises::PHP:exercises:'\n"
     ]
    }
   ],
   "source": [
    "EnteredString = input('Enter a string: ')\n",
    "List= re.sub( '[ ,.]',\":\",EnteredString)\n",
    "print(List)"
   ]
  },
  {
   "cell_type": "markdown",
   "id": "5a850511",
   "metadata": {},
   "source": [
    "# Question 2-  Create a dataframe using the dictionary below and remove everything (commas (,), !, XXXX, ;, etc.) from the columns except words."
   ]
  },
  {
   "cell_type": "code",
   "execution_count": 56,
   "id": "667ceb69",
   "metadata": {},
   "outputs": [
    {
     "data": {
      "text/plain": [
       "0      hello world\n",
       "1             test\n",
       "2    four five six\n",
       "Name: SUMMARY, dtype: object"
      ]
     },
     "execution_count": 56,
     "metadata": {},
     "output_type": "execute_result"
    }
   ],
   "source": [
    "data ={'SUMMARY' : ['hello, world!', 'XXXXX test', '123four, five:; six...']}\n",
    "df = pd.DataFrame(data)\n",
    "df=df['SUMMARY'].str.replace('[^a-zA-W\\s]',\"\",regex=True)\n",
    "df"
   ]
  },
  {
   "cell_type": "markdown",
   "id": "d6cc32ed",
   "metadata": {},
   "source": [
    "# Question 3- Create a function in python to find all words that are at least 4 characters long in a string. The use of the re.compile() method is mandatory."
   ]
  },
  {
   "cell_type": "code",
   "execution_count": 22,
   "id": "05df97a7",
   "metadata": {},
   "outputs": [
    {
     "name": "stdout",
     "output_type": "stream",
     "text": [
      "Enter a string: The quick brown fox jumps over the lazy dog.\n",
      "['quick', 'brown', 'jumps', 'over', 'lazy']\n"
     ]
    }
   ],
   "source": [
    "EnteredString = input('Enter a string: ')\n",
    "Pattern = r'\\b\\w{4,}\\b'\n",
    "List= re.compile(Pattern).findall(EnteredString)\n",
    "print(str(List))"
   ]
  },
  {
   "cell_type": "markdown",
   "id": "7e5f8b09",
   "metadata": {},
   "source": [
    "# Question 4- Create a function in python to find all three, four, and five character words in a string. The use of the re.compile() method is mandatory."
   ]
  },
  {
   "cell_type": "code",
   "execution_count": 23,
   "id": "2df8f104",
   "metadata": {},
   "outputs": [
    {
     "name": "stdout",
     "output_type": "stream",
     "text": [
      "Enter a string: Create a function in python to find all three, four, and five character words in a string. The use of the re.compile() method is mandatory.\n",
      "['find', 'all', 'three', 'four', 'and', 'five', 'words', 'The', 'use', 'the']\n"
     ]
    }
   ],
   "source": [
    "EnteredString = input('Enter a string: ')\n",
    "Pattern = r'\\b\\w{3,5}\\b'\n",
    "List= re.compile(Pattern).findall(EnteredString)\n",
    "print(str(List))"
   ]
  },
  {
   "cell_type": "markdown",
   "id": "37726ed5",
   "metadata": {},
   "source": [
    "# Question 5- Create a function in Python to remove the parenthesis in a list of strings. The use of the re.compile() method is mandatory."
   ]
  },
  {
   "cell_type": "code",
   "execution_count": 27,
   "id": "094dcf12",
   "metadata": {},
   "outputs": [
    {
     "name": "stdout",
     "output_type": "stream",
     "text": [
      "example .com\n",
      "hr@fliprobo .com\n",
      "github .com\n",
      "Hello Data Science World\n",
      "Data Scientist\n"
     ]
    }
   ],
   "source": [
    "EnteredString = [\"example (.com)\", \"hr@fliprobo (.com)\", \"github (.com)\", \"Hello (Data Science World)\", \"Data (Scientist)\"]\n",
    "Pattern = r'\\(|\\)'\n",
    "List= re.compile(Pattern)\n",
    "for i in EnteredString:\n",
    "    StringList=List.sub('', i)\n",
    "    print(StringList)"
   ]
  },
  {
   "cell_type": "markdown",
   "id": "02b60a78",
   "metadata": {},
   "source": [
    "# Question 6- Write a python program to remove the parenthesis area from the text stored in the text file using Regular Expression."
   ]
  },
  {
   "cell_type": "code",
   "execution_count": 36,
   "id": "1ba25e69",
   "metadata": {},
   "outputs": [
    {
     "name": "stdout",
     "output_type": "stream",
     "text": [
      "Entered String in text file :  ['example (.com)', 'hr@fliprobo (.com)', 'github (.com)', 'Hello (Data Science World)', 'Data (Scientist)']\n",
      "\n",
      "After removing the paranthesis area :  [\"example\", \"hr@fliprobo\", \"github\", \"Hello\", \"Data\"]\n"
     ]
    }
   ],
   "source": [
    "EnteredString =  [\"example (.com)\", \"hr@fliprobo (.com)\", \"github (.com)\", \"Hello (Data Science World)\", \"Data (Scientist)\"]\n",
    "print(\"Entered String in text file : \", EnteredString)\n",
    "Pattern = r'\\s\\([\\.\\w\\s]+\\)'\n",
    "FileName = 'T.txt'\n",
    "with open(FileName, 'r') as TextFile:\n",
    "    File=str(TextFile.read())\n",
    "List= re.compile(Pattern)\n",
    "StringList = List.sub('',File)\n",
    "print(\"\\nAfter removing the paranthesis area : \",StringList)\n",
    "OutputFile= 'O.txt'\n",
    "with open(OutputFile, 'w') as File:\n",
    "    File.write(StringList)"
   ]
  },
  {
   "cell_type": "markdown",
   "id": "2706917d",
   "metadata": {},
   "source": [
    "# Question 7- Write a regular expression in Python to split a string into uppercase letters."
   ]
  },
  {
   "cell_type": "code",
   "execution_count": 3,
   "id": "d5f92351",
   "metadata": {},
   "outputs": [
    {
     "name": "stdout",
     "output_type": "stream",
     "text": [
      "Enter a string: ImportanceOfRegularExpressionsInPython\n",
      "['Importance', 'Of', 'Regular', 'Expressions', 'In', 'Python']\n"
     ]
    }
   ],
   "source": [
    "EnteredString = input('Enter a string: ')\n",
    "List = []\n",
    "List = re.findall('[A-Z][^A-Z]*',EnteredString)\n",
    "\n",
    "print(str(List))"
   ]
  },
  {
   "cell_type": "markdown",
   "id": "426d6aa9",
   "metadata": {},
   "source": [
    "# Question 8- Create a function in python to insert spaces between words starting with numbers."
   ]
  },
  {
   "cell_type": "code",
   "execution_count": 37,
   "id": "0a4c9e09",
   "metadata": {},
   "outputs": [
    {
     "name": "stdout",
     "output_type": "stream",
     "text": [
      "Enter a string: RegularExpression1IsAn2ImportantTopic3InPython\n",
      "RegularExpression 1IsAn 2ImportantTopic 3InPython\n"
     ]
    }
   ],
   "source": [
    "EnteredString = input('Enter a string: ')\n",
    "Pattern = r'(?=[0-9])'\n",
    "List = re.sub(Pattern,\" \", EnteredString)\n",
    "print(List)"
   ]
  },
  {
   "cell_type": "markdown",
   "id": "4c7edd4b",
   "metadata": {},
   "source": [
    "# Question 9- Create a function in python to insert spaces between words starting with capital letters or with numbers."
   ]
  },
  {
   "cell_type": "code",
   "execution_count": 40,
   "id": "c599b17f",
   "metadata": {},
   "outputs": [
    {
     "name": "stdout",
     "output_type": "stream",
     "text": [
      "Enter a string: RegularExpression1IsAn2ImportantTopic3InPython\n",
      " Regular Expression 1 Is An 2 Important Topic 3 In Python\n"
     ]
    }
   ],
   "source": [
    "EnteredString = input('Enter a string: ')\n",
    "Pattern = r'(?=[0-9])|(?=[A-Z])'\n",
    "List = re.sub(Pattern,\" \", EnteredString)\n",
    "print(List)"
   ]
  },
  {
   "cell_type": "markdown",
   "id": "37303c94",
   "metadata": {},
   "source": [
    "# Question 10- Use the github link below to read the data and create a dataframe. After creating the dataframe extract the first 6 letters of each country and store in the dataframe under a new column called first_five_letters."
   ]
  },
  {
   "cell_type": "code",
   "execution_count": 55,
   "id": "3a4e618d",
   "metadata": {},
   "outputs": [
    {
     "data": {
      "text/html": [
       "<div>\n",
       "<style scoped>\n",
       "    .dataframe tbody tr th:only-of-type {\n",
       "        vertical-align: middle;\n",
       "    }\n",
       "\n",
       "    .dataframe tbody tr th {\n",
       "        vertical-align: top;\n",
       "    }\n",
       "\n",
       "    .dataframe thead th {\n",
       "        text-align: right;\n",
       "    }\n",
       "</style>\n",
       "<table border=\"1\" class=\"dataframe\">\n",
       "  <thead>\n",
       "    <tr style=\"text-align: right;\">\n",
       "      <th></th>\n",
       "      <th>Country</th>\n",
       "      <th>Region</th>\n",
       "      <th>Happiness Rank</th>\n",
       "      <th>Happiness Score</th>\n",
       "      <th>Standard Error</th>\n",
       "      <th>Economy (GDP per Capita)</th>\n",
       "      <th>Family</th>\n",
       "      <th>Health (Life Expectancy)</th>\n",
       "      <th>Freedom</th>\n",
       "      <th>Trust (Government Corruption)</th>\n",
       "      <th>Generosity</th>\n",
       "      <th>Dystopia Residual</th>\n",
       "      <th>first_five_letters</th>\n",
       "    </tr>\n",
       "  </thead>\n",
       "  <tbody>\n",
       "    <tr>\n",
       "      <th>0</th>\n",
       "      <td>Switzerland</td>\n",
       "      <td>Western Europe</td>\n",
       "      <td>1</td>\n",
       "      <td>7.587</td>\n",
       "      <td>0.03411</td>\n",
       "      <td>1.39651</td>\n",
       "      <td>1.34951</td>\n",
       "      <td>0.94143</td>\n",
       "      <td>0.66557</td>\n",
       "      <td>0.41978</td>\n",
       "      <td>0.29678</td>\n",
       "      <td>2.51738</td>\n",
       "      <td>[Switze]</td>\n",
       "    </tr>\n",
       "    <tr>\n",
       "      <th>1</th>\n",
       "      <td>Iceland</td>\n",
       "      <td>Western Europe</td>\n",
       "      <td>2</td>\n",
       "      <td>7.561</td>\n",
       "      <td>0.04884</td>\n",
       "      <td>1.30232</td>\n",
       "      <td>1.40223</td>\n",
       "      <td>0.94784</td>\n",
       "      <td>0.62877</td>\n",
       "      <td>0.14145</td>\n",
       "      <td>0.43630</td>\n",
       "      <td>2.70201</td>\n",
       "      <td>[Icelan]</td>\n",
       "    </tr>\n",
       "    <tr>\n",
       "      <th>2</th>\n",
       "      <td>Denmark</td>\n",
       "      <td>Western Europe</td>\n",
       "      <td>3</td>\n",
       "      <td>7.527</td>\n",
       "      <td>0.03328</td>\n",
       "      <td>1.32548</td>\n",
       "      <td>1.36058</td>\n",
       "      <td>0.87464</td>\n",
       "      <td>0.64938</td>\n",
       "      <td>0.48357</td>\n",
       "      <td>0.34139</td>\n",
       "      <td>2.49204</td>\n",
       "      <td>[Denmar]</td>\n",
       "    </tr>\n",
       "    <tr>\n",
       "      <th>3</th>\n",
       "      <td>Norway</td>\n",
       "      <td>Western Europe</td>\n",
       "      <td>4</td>\n",
       "      <td>7.522</td>\n",
       "      <td>0.03880</td>\n",
       "      <td>1.45900</td>\n",
       "      <td>1.33095</td>\n",
       "      <td>0.88521</td>\n",
       "      <td>0.66973</td>\n",
       "      <td>0.36503</td>\n",
       "      <td>0.34699</td>\n",
       "      <td>2.46531</td>\n",
       "      <td>[Norway]</td>\n",
       "    </tr>\n",
       "    <tr>\n",
       "      <th>4</th>\n",
       "      <td>Canada</td>\n",
       "      <td>North America</td>\n",
       "      <td>5</td>\n",
       "      <td>7.427</td>\n",
       "      <td>0.03553</td>\n",
       "      <td>1.32629</td>\n",
       "      <td>1.32261</td>\n",
       "      <td>0.90563</td>\n",
       "      <td>0.63297</td>\n",
       "      <td>0.32957</td>\n",
       "      <td>0.45811</td>\n",
       "      <td>2.45176</td>\n",
       "      <td>[Canada]</td>\n",
       "    </tr>\n",
       "  </tbody>\n",
       "</table>\n",
       "</div>"
      ],
      "text/plain": [
       "       Country          Region  Happiness Rank  Happiness Score  \\\n",
       "0  Switzerland  Western Europe               1            7.587   \n",
       "1      Iceland  Western Europe               2            7.561   \n",
       "2      Denmark  Western Europe               3            7.527   \n",
       "3       Norway  Western Europe               4            7.522   \n",
       "4       Canada   North America               5            7.427   \n",
       "\n",
       "   Standard Error  Economy (GDP per Capita)   Family  \\\n",
       "0         0.03411                   1.39651  1.34951   \n",
       "1         0.04884                   1.30232  1.40223   \n",
       "2         0.03328                   1.32548  1.36058   \n",
       "3         0.03880                   1.45900  1.33095   \n",
       "4         0.03553                   1.32629  1.32261   \n",
       "\n",
       "   Health (Life Expectancy)  Freedom  Trust (Government Corruption)  \\\n",
       "0                   0.94143  0.66557                        0.41978   \n",
       "1                   0.94784  0.62877                        0.14145   \n",
       "2                   0.87464  0.64938                        0.48357   \n",
       "3                   0.88521  0.66973                        0.36503   \n",
       "4                   0.90563  0.63297                        0.32957   \n",
       "\n",
       "   Generosity  Dystopia Residual first_five_letters  \n",
       "0     0.29678            2.51738           [Switze]  \n",
       "1     0.43630            2.70201           [Icelan]  \n",
       "2     0.34139            2.49204           [Denmar]  \n",
       "3     0.34699            2.46531           [Norway]  \n",
       "4     0.45811            2.45176           [Canada]  "
      ]
     },
     "execution_count": 55,
     "metadata": {},
     "output_type": "execute_result"
    }
   ],
   "source": [
    "URL =\"https://raw.githubusercontent.com/dsrscientist/DSData/master/happiness_score_dataset.csv\"\n",
    "df=pd.read_csv(URL)\n",
    "\n",
    "df['first_five_letters'] = df['Country'].str.findall('^[\\s\\S]{0,6}')\n",
    "df.head()"
   ]
  },
  {
   "cell_type": "markdown",
   "id": "482e9b6a",
   "metadata": {},
   "source": [
    "# Question 11- Write a Python program to match a string that contains only upper and lowercase letters, numbers, and underscores."
   ]
  },
  {
   "cell_type": "code",
   "execution_count": 4,
   "id": "69c5c11f",
   "metadata": {},
   "outputs": [
    {
     "name": "stdout",
     "output_type": "stream",
     "text": [
      "Enter a string: JamesBond_007\n",
      "Found a match\n"
     ]
    }
   ],
   "source": [
    "EnteredString = input('Enter a string: ')\n",
    "Pattern = re.compile('[^[a-zA-Z0-9_]*$')\n",
    "String = Pattern.search(EnteredString)\n",
    "if String:\n",
    "    print('Found a match')\n",
    "else:\n",
    "    print('Not a match')"
   ]
  },
  {
   "cell_type": "markdown",
   "id": "a854d8a3",
   "metadata": {},
   "source": [
    "# Question 12- Write a Python program where a string will start with a specific number. "
   ]
  },
  {
   "cell_type": "code",
   "execution_count": 5,
   "id": "dc6bb2eb",
   "metadata": {},
   "outputs": [
    {
     "name": "stdout",
     "output_type": "stream",
     "text": [
      "Enter a string: 007JamesBond\n",
      "Enter a Number: 0\n",
      "Found a match\n"
     ]
    }
   ],
   "source": [
    "EnteredString = input('Enter a string: ')\n",
    "EnteredNum = input('Enter a Number: ')\n",
    "String = re.match(EnteredNum,EnteredString)\n",
    "if String:\n",
    "    print('Found a match')\n",
    "else:\n",
    "    print('Not a match')"
   ]
  },
  {
   "cell_type": "markdown",
   "id": "0d1dc902",
   "metadata": {},
   "source": [
    "# Question 13- Write a Python program to remove leading zeros from an IP address"
   ]
  },
  {
   "cell_type": "code",
   "execution_count": 6,
   "id": "51e09c41",
   "metadata": {},
   "outputs": [
    {
     "name": "stdout",
     "output_type": "stream",
     "text": [
      "Enter IP address: 129.00144.50.56.\n",
      "129.144.50.56.\n"
     ]
    }
   ],
   "source": [
    "EnteredIP = input('Enter IP address: ')\n",
    "String = re.sub('\\.[0]*', '.',EnteredIP)\n",
    "print(String)"
   ]
  },
  {
   "cell_type": "markdown",
   "id": "02785a13",
   "metadata": {},
   "source": [
    "# Question 14- Write a regular expression in python to match a date string in the form of Month name followed by day number and year stored in a text file."
   ]
  },
  {
   "cell_type": "code",
   "execution_count": 51,
   "id": "9583b29d",
   "metadata": {},
   "outputs": [
    {
     "name": "stdout",
     "output_type": "stream",
     "text": [
      "EnteredString :  On August 15th 1947 that India was declared independent from British colonialism, and the reins of control were handed over to the leaders of the Country\n",
      "\n",
      "Output file: ['August 15th 1947']\n"
     ]
    }
   ],
   "source": [
    "print(\"EnteredString : \",'On August 15th 1947 that India was declared independent from British colonialism, and the reins of control were handed over to the leaders of the Country')\n",
    "Pattern = r'\\b(?:January|February|March|April|May|June|July|August|September|October|November|December)\\s+\\d{1,2}(?:st|nd|rd|th)?\\s+\\d{4}'\n",
    "FileName = 'T1.txt'\n",
    "with open(FileName, 'r') as TextFile:\n",
    "    File=str(TextFile.read())\n",
    "List = str(re.findall(Pattern, File))\n",
    "print(\"\\nOutput file:\", List)\n",
    "FileName='O1.txt'\n",
    "with open(FileName, 'w') as File:\n",
    "    File.write(List)"
   ]
  },
  {
   "cell_type": "markdown",
   "id": "942a63f6",
   "metadata": {},
   "source": [
    "# Question 15- Write a Python program to search some literals strings in a string. "
   ]
  },
  {
   "cell_type": "code",
   "execution_count": 7,
   "id": "2f136640",
   "metadata": {},
   "outputs": [
    {
     "name": "stdout",
     "output_type": "stream",
     "text": [
      "Found a match\n"
     ]
    }
   ],
   "source": [
    "String = 'The quick brown fox jumps over the lazy dog.'\n",
    "LiteralString = re.search('fox|dog|horse', String)\n",
    "if LiteralString:\n",
    "    print('Found a match')\n",
    "else:\n",
    "    print('Not a match')"
   ]
  },
  {
   "cell_type": "markdown",
   "id": "af285105",
   "metadata": {},
   "source": [
    "# Question 16- Write a Python program to search a literals string in a string and also find the location within the original string where the pattern occurs"
   ]
  },
  {
   "cell_type": "code",
   "execution_count": 8,
   "id": "9e56b36d",
   "metadata": {},
   "outputs": [
    {
     "name": "stdout",
     "output_type": "stream",
     "text": [
      "Found a match, pattern occurs on 15\n"
     ]
    }
   ],
   "source": [
    "String = 'The quick brown fox jumps over the lazy dog.'\n",
    "LiteralString = re.search('\\Wfox\\W', String)\n",
    "if LiteralString:\n",
    "    print('Found a match, pattern occurs on', LiteralString.start())\n",
    "else:\n",
    "    print('Not a match')"
   ]
  },
  {
   "cell_type": "markdown",
   "id": "14cf2839",
   "metadata": {},
   "source": [
    "# Question 17- Write a Python program to find the substrings within a string."
   ]
  },
  {
   "cell_type": "code",
   "execution_count": 9,
   "id": "61cf8d7e",
   "metadata": {},
   "outputs": [
    {
     "name": "stdout",
     "output_type": "stream",
     "text": [
      "Found a match\n"
     ]
    }
   ],
   "source": [
    "String = 'Python exercises, PHP exercises, C# exercises'\n",
    "Substring='exercises'\n",
    "LiteralString = re.findall(Substring, String)\n",
    "if LiteralString:\n",
    "    print('Found a match')\n",
    "else:\n",
    "    print('Not a match')"
   ]
  },
  {
   "cell_type": "markdown",
   "id": "4defe651",
   "metadata": {},
   "source": [
    "# Question 18- Write a Python program to find the occurrence and position of the substrings within a string."
   ]
  },
  {
   "cell_type": "code",
   "execution_count": 10,
   "id": "e9989f87",
   "metadata": {},
   "outputs": [
    {
     "name": "stdout",
     "output_type": "stream",
     "text": [
      "The substring  exercises found at position 7 : 16\n",
      "The substring  exercises found at position 22 : 31\n",
      "The substring  exercises found at position 36 : 45\n"
     ]
    }
   ],
   "source": [
    "String = 'Python exercises, PHP exercises, C# exercises'\n",
    "Substring='exercises'\n",
    "LiteralString = re.finditer(Substring, String)\n",
    "for i in LiteralString:\n",
    "    Start = i.start()\n",
    "    End = i.end()\n",
    "    print(\"The substring \",Substring,\"found at position\", Start,\":\",End)"
   ]
  },
  {
   "cell_type": "markdown",
   "id": "2d948ced",
   "metadata": {},
   "source": [
    "# Question 19- Write a Python program to convert a date of yyyy-mm-dd format to dd-mm-yyyy format."
   ]
  },
  {
   "cell_type": "code",
   "execution_count": 12,
   "id": "446ba258",
   "metadata": {},
   "outputs": [
    {
     "name": "stdout",
     "output_type": "stream",
     "text": [
      "22-08-2024\n"
     ]
    }
   ],
   "source": [
    "Date = '2024-08-22'\n",
    "Pattern = re.split('-', Date)\n",
    "NewDate = '-'.join(Pattern[::-1])\n",
    "print(NewDate)"
   ]
  },
  {
   "cell_type": "markdown",
   "id": "de684101",
   "metadata": {},
   "source": [
    "# Question 20- Create a function in python to find all decimal numbers with a precision of 1 or 2 in a string. The use of the re.compile() method is mandatory."
   ]
  },
  {
   "cell_type": "code",
   "execution_count": 53,
   "id": "732e23f8",
   "metadata": {},
   "outputs": [
    {
     "name": "stdout",
     "output_type": "stream",
     "text": [
      "['01.12', '0132.12', '2.31', '145.8', '3.01', '27.25', '0.25']\n"
     ]
    }
   ],
   "source": [
    "String = '01.12 0132.123 2.31875 145.8 3.01 27.25 0.25'\n",
    "Pattern = r'\\d+\\.\\d{1,2}'\n",
    "List= re.compile(Pattern)\n",
    "StringList = List.findall(String)\n",
    "print(StringList)"
   ]
  },
  {
   "cell_type": "markdown",
   "id": "b1ea3bf8",
   "metadata": {},
   "source": [
    "# Question 21- Write a Python program to separate and print the numbers and their position of a given string."
   ]
  },
  {
   "cell_type": "code",
   "execution_count": 13,
   "id": "277c1d5d",
   "metadata": {},
   "outputs": [
    {
     "name": "stdout",
     "output_type": "stream",
     "text": [
      "Enter a string: Hello, I am 007. James Bond 007\n",
      "The number in the string is:  007\n",
      "Index position: 12\n",
      "The number in the string is:  007\n",
      "Index position: 28\n"
     ]
    }
   ],
   "source": [
    "EnteredString = input('Enter a string: ')\n",
    "for i in re.finditer('\\d+',EnteredString):\n",
    "    print(\"The number in the string is: \",i.group(0))\n",
    "    print(\"Index position:\", i.start())"
   ]
  },
  {
   "cell_type": "markdown",
   "id": "b7253386",
   "metadata": {},
   "source": [
    "# Question 22- Write a regular expression in python program to extract maximum/largest numeric value from a string."
   ]
  },
  {
   "cell_type": "code",
   "execution_count": 14,
   "id": "86056e88",
   "metadata": {},
   "outputs": [
    {
     "name": "stdout",
     "output_type": "stream",
     "text": [
      "Enter a string: My marks in each semester are: 947, 896, 926, 524, 734, 950, 642\n",
      "Maximum Number in the string : 950\n"
     ]
    }
   ],
   "source": [
    "EnteredString = input('Enter a string: ')\n",
    "MaxNumeric= re.findall('\\d+',EnteredString)\n",
    "MaxNumeric= map(int,MaxNumeric)\n",
    "print(\"Maximum Number in the string :\", max(MaxNumeric))"
   ]
  },
  {
   "cell_type": "markdown",
   "id": "466d1b79",
   "metadata": {},
   "source": [
    "# Question 23- Create a function in python to insert spaces between words starting with capital letters."
   ]
  },
  {
   "cell_type": "code",
   "execution_count": 15,
   "id": "12a2f05a",
   "metadata": {},
   "outputs": [
    {
     "name": "stdout",
     "output_type": "stream",
     "text": [
      "Enter a string: RegularExpressionIsAnImportantTopicInPython\n",
      "Regular Expression Is An Important Topic In Python\n"
     ]
    }
   ],
   "source": [
    "EnteredString = input('Enter a string: ')\n",
    "String = re.sub(r\"(\\w)([A-Z])\", r\"\\1 \\2\",EnteredString)\n",
    "print(String)"
   ]
  },
  {
   "cell_type": "markdown",
   "id": "18fd1f0e",
   "metadata": {},
   "source": [
    "# Question 24- Python regex to find sequences of one upper case letter followed by lower case letters"
   ]
  },
  {
   "cell_type": "code",
   "execution_count": 16,
   "id": "44d6f621",
   "metadata": {},
   "outputs": [
    {
     "name": "stdout",
     "output_type": "stream",
     "text": [
      "Enter a string: RegularExpressionIsAnImportantTopicInPython\n",
      "Found a match\n"
     ]
    }
   ],
   "source": [
    "EnteredString = input('Enter a string: ')\n",
    "String =re.search('[A-Z]+[a-z]+$',EnteredString)\n",
    "if String:\n",
    "    print('Found a match')\n",
    "else:\n",
    "    print('Not a match')"
   ]
  },
  {
   "cell_type": "markdown",
   "id": "654fa730",
   "metadata": {},
   "source": [
    "# Question 25- Write a Python program to remove continuous duplicate words from Sentence using Regular Expression."
   ]
  },
  {
   "cell_type": "code",
   "execution_count": 17,
   "id": "f0d4ea28",
   "metadata": {},
   "outputs": [
    {
     "name": "stdout",
     "output_type": "stream",
     "text": [
      "Enter a string: Hello hello world world\n",
      "Hello hello world\n"
     ]
    }
   ],
   "source": [
    "EnteredString = input('Enter a string: ')\n",
    "String = re.sub(\"\\\\b(\\\\w+)(?:\\\\W+\\\\1\\\\b)+\",r'\\1',EnteredString)\n",
    "print(String)"
   ]
  },
  {
   "cell_type": "markdown",
   "id": "ca2022b9",
   "metadata": {},
   "source": [
    "# Question 26-  Write a python program using RegEx to accept string ending with alphanumeric character."
   ]
  },
  {
   "cell_type": "code",
   "execution_count": 18,
   "id": "830cd66b",
   "metadata": {},
   "outputs": [
    {
     "name": "stdout",
     "output_type": "stream",
     "text": [
      "Enter a string: JAmes Bond 007\n",
      "Accept\n"
     ]
    }
   ],
   "source": [
    "EnteredString = input('Enter a string: ')\n",
    "LiteralString = re.search('[a-zA-z0-9]$', EnteredString)\n",
    "if LiteralString:\n",
    "    print('Accept')\n",
    "else:\n",
    "    print('Not Accept')"
   ]
  },
  {
   "cell_type": "markdown",
   "id": "70b958f1",
   "metadata": {},
   "source": [
    "# Question 27-Write a python program using RegEx to extract the hashtags."
   ]
  },
  {
   "cell_type": "code",
   "execution_count": 19,
   "id": "2204b60e",
   "metadata": {},
   "outputs": [
    {
     "name": "stdout",
     "output_type": "stream",
     "text": [
      "Enter a string: RT @kapil_kausik: #Doltiwal I mean #xyzabc is \"hurt\" by #Demonetization as the same has rendered USELESS <ed><U+00A0><U+00BD><ed><U+00B1><U+0089> \"acquired funds\" No wo\n",
      "['#Doltiwal', '#xyzabc', '#Demonetization']\n"
     ]
    }
   ],
   "source": [
    "EnteredString = input('Enter a string: ')\n",
    "List= re.findall( r'#\\S+',EnteredString)\n",
    "print(List)"
   ]
  },
  {
   "cell_type": "markdown",
   "id": "d45be9ce",
   "metadata": {},
   "source": [
    "# Question 28- Write a python program using RegEx to remove <U+..> like symbols"
   ]
  },
  {
   "cell_type": "code",
   "execution_count": 62,
   "id": "5fdd7be4",
   "metadata": {},
   "outputs": [
    {
     "name": "stdout",
     "output_type": "stream",
     "text": [
      "Enter a string: @Jags123456 Bharat band on 28??<ed><U+00A0><U+00BD><ed><U+00B8><U+0082>Those who  are protesting #demonetization  are all different party leaders\n",
      "\n",
      "Output text :  @Jags123456 Bharat band on 28??<ed><ed>Those who  are protesting #demonetization  are all different party leaders\n"
     ]
    }
   ],
   "source": [
    "EnteredString = input('Enter a string: ')\n",
    "Pattern = re.compile(r'<U\\+[0-9A-Z]+>')\n",
    "List= Pattern.sub(\"\",EnteredString)\n",
    "print(\"\\nOutput text : \",List)"
   ]
  },
  {
   "cell_type": "markdown",
   "id": "255cfc0d",
   "metadata": {},
   "source": [
    "# Question 29- Write a python program to extract dates from the text stored in the text file."
   ]
  },
  {
   "cell_type": "code",
   "execution_count": 63,
   "id": "943d2f30",
   "metadata": {},
   "outputs": [
    {
     "name": "stdout",
     "output_type": "stream",
     "text": [
      "['12-09-1992', '15-12-1999']\n"
     ]
    }
   ],
   "source": [
    "FileName='T3.txt'\n",
    "Pattern = re.compile(r'\\d{1,2}-\\d{1,2}-\\d{1,4}')\n",
    "with open(FileName, 'r') as File:\n",
    "    List=File.read()\n",
    "StringList = re.findall(Pattern, List)\n",
    "print(StringList)"
   ]
  },
  {
   "cell_type": "markdown",
   "id": "f1462825",
   "metadata": {},
   "source": [
    "# Question 30- Create a function in python to remove all words from a string of length between 2 and 4.\n",
    "The use of the re.compile() method is mandatory.\n"
   ]
  },
  {
   "cell_type": "code",
   "execution_count": 65,
   "id": "19e913f3",
   "metadata": {},
   "outputs": [
    {
     "name": "stdout",
     "output_type": "stream",
     "text": [
      "Enter a string: The following example creates an ArrayList with a capacity of 50 elements. 4 elements are then added to the ArrayList and the ArrayList is trimmed accordingly.\n",
      "\n",
      "Output String :  following example creates  ArrayList  a capacity  50 elements. 4 elements   added   ArrayList   ArrayList  trimmed accordingly.\n"
     ]
    }
   ],
   "source": [
    "EnteredString=input('Enter a string: ')\n",
    "def remove(Text):\n",
    "    Pattern = r'\\b[A-Za-z]{2,4}\\b'\n",
    "    List=re.compile(Pattern)\n",
    "    StringList= List.sub('', Text)\n",
    "    return StringList\n",
    "\n",
    "String=remove(EnteredString)\n",
    "print(\"\\nOutput String :\",String)"
   ]
  },
  {
   "cell_type": "code",
   "execution_count": null,
   "id": "9cfb798e",
   "metadata": {},
   "outputs": [],
   "source": []
  }
 ],
 "metadata": {
  "kernelspec": {
   "display_name": "Python 3 (ipykernel)",
   "language": "python",
   "name": "python3"
  },
  "language_info": {
   "codemirror_mode": {
    "name": "ipython",
    "version": 3
   },
   "file_extension": ".py",
   "mimetype": "text/x-python",
   "name": "python",
   "nbconvert_exporter": "python",
   "pygments_lexer": "ipython3",
   "version": "3.10.12"
  }
 },
 "nbformat": 4,
 "nbformat_minor": 5
}
