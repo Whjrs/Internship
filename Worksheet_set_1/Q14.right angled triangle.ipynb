{
 "cells": [
  {
   "cell_type": "code",
   "execution_count": 3,
   "id": "e6c59594",
   "metadata": {},
   "outputs": [
    {
     "name": "stdout",
     "output_type": "stream",
     "text": [
      "Enter the base side of triangle : 2\n",
      "Enter the perpendicular side of triangle : 6\n",
      "The hypotenuse side is  6.324555320336759\n"
     ]
    }
   ],
   "source": [
    "import math\n",
    "\n",
    "base_side = int(input(\"Enter the base side of triangle : \"))\n",
    "perpendicular_side = int(input(\"Enter the perpendicular side of triangle : \"))\n",
    "\n",
    "hypotenuse=math.sqrt(base_side**2 + perpendicular_side**2)\n",
    "print(\"The hypotenuse side is \",hypotenuse)\n"
   ]
  },
  {
   "cell_type": "code",
   "execution_count": null,
   "id": "97b47827",
   "metadata": {},
   "outputs": [],
   "source": []
  }
 ],
 "metadata": {
  "kernelspec": {
   "display_name": "Python 3 (ipykernel)",
   "language": "python",
   "name": "python3"
  },
  "language_info": {
   "codemirror_mode": {
    "name": "ipython",
    "version": 3
   },
   "file_extension": ".py",
   "mimetype": "text/x-python",
   "name": "python",
   "nbconvert_exporter": "python",
   "pygments_lexer": "ipython3",
   "version": "3.10.12"
  }
 },
 "nbformat": 4,
 "nbformat_minor": 5
}
