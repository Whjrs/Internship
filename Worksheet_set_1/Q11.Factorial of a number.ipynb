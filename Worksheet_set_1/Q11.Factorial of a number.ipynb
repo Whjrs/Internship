{
 "cells": [
  {
   "cell_type": "code",
   "execution_count": 10,
   "id": "6f6b46ff",
   "metadata": {},
   "outputs": [
    {
     "name": "stdout",
     "output_type": "stream",
     "text": [
      "Enter the number: 24\n",
      "Factorial of 24 is 620448401733239439360000\n"
     ]
    }
   ],
   "source": [
    "n = int(input(\"Enter the number: \"))\n",
    "factorial = 1\n",
    "\n",
    "if n==0 or n==1:\n",
    "    print(\"Factorial is 1\")\n",
    "elif n<0:\n",
    "    print(\"Factorial of negative number is not defined\")\n",
    "else:\n",
    "    for i in range(1, n+1):\n",
    "        factorial *= i\n",
    "    print(\"Factorial of\",n, \"is\",factorial)\n",
    "    "
   ]
  },
  {
   "cell_type": "code",
   "execution_count": null,
   "id": "73b5d54f",
   "metadata": {},
   "outputs": [],
   "source": []
  },
  {
   "cell_type": "code",
   "execution_count": null,
   "id": "c9e1bfdf",
   "metadata": {},
   "outputs": [],
   "source": []
  }
 ],
 "metadata": {
  "kernelspec": {
   "display_name": "Python 3 (ipykernel)",
   "language": "python",
   "name": "python3"
  },
  "language_info": {
   "codemirror_mode": {
    "name": "ipython",
    "version": 3
   },
   "file_extension": ".py",
   "mimetype": "text/x-python",
   "name": "python",
   "nbconvert_exporter": "python",
   "pygments_lexer": "ipython3",
   "version": "3.10.12"
  }
 },
 "nbformat": 4,
 "nbformat_minor": 5
}
